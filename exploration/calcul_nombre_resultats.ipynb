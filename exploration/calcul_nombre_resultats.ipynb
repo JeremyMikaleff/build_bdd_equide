{
 "cells": [
  {
   "cell_type": "code",
   "execution_count": null,
   "metadata": {},
   "outputs": [],
   "source": [
    "import requests\n",
    "from datetime import datetime, timedelta\n",
    "\n",
    "# Fonction pour formater la date\n",
    "def formater_date(date):\n",
    "    return date.strftime(\"%d%m%Y\")\n",
    "\n",
    "# Date de départ (aujourd'hui)\n",
    "date_actuelle = datetime.now()\n",
    "nb_page = 0\n",
    "\n",
    "while True:\n",
    "    # Formater la date pour l'URL\n",
    "    date_url = formater_date(date_actuelle)\n",
    "    \n",
    "    # URL avec la date actuelle\n",
    "    url = f\"https://offline.turfinfo.api.pmu.fr/rest/client/7/programme/{date_url}\"\n",
    "    \n",
    "    # Récupérer les données JSON\n",
    "    response = requests.get(url)\n",
    "    \n",
    "    if response.status_code == 200:\n",
    "        json_data = response.json()\n",
    "\n",
    "        # Extraire les informations du programme\n",
    "        date_programme_timestamp = json_data[\"programme\"][\"date\"] // 1000\n",
    "        date_programme = datetime.fromtimestamp(date_programme_timestamp).date()\n",
    "\n",
    "        # Format personnalisé de la date en français\n",
    "        date_programme_fr = date_programme.strftime(\"%d-%m-%Y\")\n",
    "\n",
    "        # Afficher les informations du programme\n",
    "        print(f\"Id du programme : {date_url} | Date du programme : {date_programme_fr}\")\n",
    "        \n",
    "        # Passer à la date précédente\n",
    "        nb_page = nb_page + 1 \n",
    "        date_actuelle -= timedelta(days=1)\n",
    "    else:\n",
    "        # Arrêter l'itération si le statut n'est pas 200\n",
    "        print(f\"Arrêt de l'itération. Code de statut : {response.status_code}\")\n",
    "        print(f\"Le nombre de pages est de : {nb_page}\")\n",
    "        break"
   ]
  }
 ],
 "metadata": {
  "language_info": {
   "name": "python"
  }
 },
 "nbformat": 4,
 "nbformat_minor": 2
}
